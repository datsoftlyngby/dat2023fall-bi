{
 "cells": [
  {
   "cell_type": "markdown",
   "id": "43582dd6",
   "metadata": {},
   "source": [
    "# Read JSON"
   ]
  },
  {
   "cell_type": "code",
   "execution_count": null,
   "id": "011467eb",
   "metadata": {},
   "outputs": [],
   "source": [
    "%%writefile readjson.py\n",
    "\n",
    "import json\n",
    "import pandas as pd\n",
    "\n",
    "def readJSON(filename):\n",
    "    data = pd.read_json(filename, orient='records')\n",
    "    return data"
   ]
  },
  {
   "cell_type": "markdown",
   "id": "e14a185e",
   "metadata": {},
   "source": [
    "## Test"
   ]
  },
  {
   "cell_type": "code",
   "execution_count": null,
   "id": "1f7ea23e",
   "metadata": {},
   "outputs": [],
   "source": [
    "import importlib \n",
    "importlib.reload(readjson)"
   ]
  },
  {
   "cell_type": "code",
   "execution_count": null,
   "id": "c7da494a",
   "metadata": {},
   "outputs": [],
   "source": [
    "import readjson\n",
    "from readjson import readJSON"
   ]
  },
  {
   "cell_type": "code",
   "execution_count": null,
   "id": "03359108",
   "metadata": {},
   "outputs": [],
   "source": [
    "filename = '/Users/tdi/Documents/Holodeck/Holodeck/Data/apitest.json'"
   ]
  },
  {
   "cell_type": "code",
   "execution_count": null,
   "id": "a9ab3236",
   "metadata": {},
   "outputs": [],
   "source": [
    "data = readJSON(filename)"
   ]
  },
  {
   "cell_type": "code",
   "execution_count": 142,
   "id": "60459d5f",
   "metadata": {},
   "outputs": [
    {
     "data": {
      "text/html": [
       "<div>\n",
       "<style scoped>\n",
       "    .dataframe tbody tr th:only-of-type {\n",
       "        vertical-align: middle;\n",
       "    }\n",
       "\n",
       "    .dataframe tbody tr th {\n",
       "        vertical-align: top;\n",
       "    }\n",
       "\n",
       "    .dataframe thead th {\n",
       "        text-align: right;\n",
       "    }\n",
       "</style>\n",
       "<table border=\"1\" class=\"dataframe\">\n",
       "  <thead>\n",
       "    <tr style=\"text-align: right;\">\n",
       "      <th></th>\n",
       "      <th>vat</th>\n",
       "      <th>name</th>\n",
       "      <th>address</th>\n",
       "      <th>zipcode</th>\n",
       "      <th>city</th>\n",
       "      <th>cityname</th>\n",
       "      <th>protected</th>\n",
       "      <th>phone</th>\n",
       "      <th>email</th>\n",
       "      <th>fax</th>\n",
       "      <th>...</th>\n",
       "      <th>industrydesc</th>\n",
       "      <th>companycode</th>\n",
       "      <th>companydesc</th>\n",
       "      <th>creditstartdate</th>\n",
       "      <th>creditbankrupt</th>\n",
       "      <th>creditstatus</th>\n",
       "      <th>owners</th>\n",
       "      <th>productionunits</th>\n",
       "      <th>t</th>\n",
       "      <th>version</th>\n",
       "    </tr>\n",
       "  </thead>\n",
       "  <tbody>\n",
       "    <tr>\n",
       "      <th>0</th>\n",
       "      <td>35358323</td>\n",
       "      <td>Cphbusiness Studenterforening</td>\n",
       "      <td>Nansensgade 19, st</td>\n",
       "      <td>1366</td>\n",
       "      <td>København K</td>\n",
       "      <td>NaN</td>\n",
       "      <td>True</td>\n",
       "      <td>36154500</td>\n",
       "      <td>students@cphbusiness.dk</td>\n",
       "      <td>NaN</td>\n",
       "      <td>...</td>\n",
       "      <td>Andre organisationer og foreninger i.a.n.</td>\n",
       "      <td>115</td>\n",
       "      <td>Frivillig forening</td>\n",
       "      <td>NaN</td>\n",
       "      <td>False</td>\n",
       "      <td>NaN</td>\n",
       "      <td>NaN</td>\n",
       "      <td>[{'pno': 1018893831, 'main': False, 'name': 'C...</td>\n",
       "      <td>100</td>\n",
       "      <td>6</td>\n",
       "    </tr>\n",
       "  </tbody>\n",
       "</table>\n",
       "<p>1 rows × 25 columns</p>\n",
       "</div>"
      ],
      "text/plain": [
       "        vat                           name             address  zipcode  \\\n",
       "0  35358323  Cphbusiness Studenterforening  Nansensgade 19, st     1366   \n",
       "\n",
       "          city  cityname  protected     phone                    email  fax  \\\n",
       "0  København K       NaN       True  36154500  students@cphbusiness.dk  NaN   \n",
       "\n",
       "   ...                               industrydesc  companycode  \\\n",
       "0  ...  Andre organisationer og foreninger i.a.n.          115   \n",
       "\n",
       "          companydesc creditstartdate  creditbankrupt creditstatus  owners  \\\n",
       "0  Frivillig forening             NaN           False          NaN     NaN   \n",
       "\n",
       "                                     productionunits    t  version  \n",
       "0  [{'pno': 1018893831, 'main': False, 'name': 'C...  100        6  \n",
       "\n",
       "[1 rows x 25 columns]"
      ]
     },
     "execution_count": 142,
     "metadata": {},
     "output_type": "execute_result"
    }
   ],
   "source": [
    "data.head()"
   ]
  },
  {
   "cell_type": "code",
   "execution_count": null,
   "id": "085d0f55",
   "metadata": {},
   "outputs": [],
   "source": []
  }
 ],
 "metadata": {
  "kernelspec": {
   "display_name": "Python 3 (ipykernel)",
   "language": "python",
   "name": "python3"
  },
  "language_info": {
   "codemirror_mode": {
    "name": "ipython",
    "version": 3
   },
   "file_extension": ".py",
   "mimetype": "text/x-python",
   "name": "python",
   "nbconvert_exporter": "python",
   "pygments_lexer": "ipython3",
   "version": "3.11.4"
  }
 },
 "nbformat": 4,
 "nbformat_minor": 5
}
