{
 "cells": [
  {
   "cell_type": "markdown",
   "id": "c52bf402",
   "metadata": {},
   "source": [
    "# Read PDF "
   ]
  },
  {
   "cell_type": "code",
   "execution_count": null,
   "id": "41e50133",
   "metadata": {},
   "outputs": [],
   "source": [
    "# !pip install pypdf\n",
    "# !pip install textract - for reading scanned pdf"
   ]
  },
  {
   "cell_type": "code",
   "execution_count": null,
   "id": "f45f0101",
   "metadata": {},
   "outputs": [],
   "source": [
    "%%writefile readpdf.py\n",
    "\n",
    "import pypdf\n",
    "from pypdf import PdfReader\n",
    "\n",
    "def readPDF(filename, frompage):\n",
    "        \n",
    "        # The pdfReader variable is the readable object that will be parsed        \n",
    "        pdfFileObj = open(filename, mode='rb')\n",
    "\n",
    "        # Creating a pdf reader object\n",
    "        mypdf = pypdf.PdfReader(pdfFileObj)\n",
    "        \n",
    "        # Calls a function to print metadata\n",
    "        mymeta = printMeta(mypdf)        # internal call\n",
    "        \n",
    "        # Calls a function to extract the content and convert it into txt format\n",
    "        text = getText(mypdf, frompage)  # internal call\n",
    "        \n",
    "        # Closing the pdf file object\n",
    "        pdfFileObj.close()\n",
    "        return mymeta, text    \n",
    " \n",
    "# Function for printing the metadata\n",
    "def printMeta(mypdf):\n",
    "    meta = mypdf.metadata\n",
    "    mymeta = {'title': meta.title, 'author': meta.author, 'created by': meta.creator, 'pages': str(len(mypdf.pages))}\n",
    "    print(mymeta)\n",
    "    return mymeta  \n",
    "                       \n",
    "# Function for extracting the content of a pdf file\n",
    "def getText(pdfdoc, page):\n",
    "        # start reading from the second page\n",
    "        text = \"\"\n",
    "        # number of pages                \n",
    "        nump = len(pdfdoc.pages)\n",
    "        # loop through pages\n",
    "        while page < nump:\n",
    "            pageObj = pdfdoc.pages[page]\n",
    "            page += 1\n",
    "            text += pageObj.extract_text()\n",
    "        text = text.replace('\\n', ' ')\n",
    "            \n",
    "        # For scanned files, use the OCR library textract instead\n",
    "        if text == \"\":\n",
    "            # If true, run textract to convert scanned/image PDF into text\n",
    "            text = textract.process(fileurl, method='tesseract', language='eng')\n",
    "        text = text.replace('Machine Translated by Google', \"\")\n",
    "        \n",
    "        return text   \n",
    "    "
   ]
  },
  {
   "cell_type": "markdown",
   "id": "4af71fa4",
   "metadata": {},
   "source": [
    "## Test"
   ]
  },
  {
   "cell_type": "code",
   "execution_count": null,
   "id": "c7da494a",
   "metadata": {},
   "outputs": [],
   "source": [
    "import readpdf\n",
    "from readpdf import readPDF"
   ]
  },
  {
   "cell_type": "code",
   "execution_count": null,
   "id": "1f7ea23e",
   "metadata": {},
   "outputs": [],
   "source": [
    "import importlib \n",
    "importlib.reload(readpdf)"
   ]
  },
  {
   "cell_type": "code",
   "execution_count": null,
   "id": "c70d5207",
   "metadata": {},
   "outputs": [],
   "source": [
    "uri = '/Users/tdi/Documents/Holodeck/Holodeck/Docs/PDFTest.pdf'"
   ]
  },
  {
   "cell_type": "code",
   "execution_count": null,
   "id": "ad1a2351",
   "metadata": {},
   "outputs": [],
   "source": [
    "mymeta, text = readPDF(uri, 0)"
   ]
  },
  {
   "cell_type": "code",
   "execution_count": null,
   "id": "99d50757",
   "metadata": {},
   "outputs": [],
   "source": [
    "text"
   ]
  },
  {
   "cell_type": "markdown",
   "id": "d6931f70",
   "metadata": {},
   "source": [
    "## Write into Data Frame"
   ]
  },
  {
   "cell_type": "code",
   "execution_count": null,
   "id": "6c3d6c93",
   "metadata": {},
   "outputs": [],
   "source": [
    "import pandas as pd"
   ]
  },
  {
   "cell_type": "code",
   "execution_count": null,
   "id": "b76ddd3a",
   "metadata": {},
   "outputs": [],
   "source": [
    "df = pd.DataFrame(columns = ['meta', 'text'])"
   ]
  },
  {
   "cell_type": "code",
   "execution_count": null,
   "id": "ba561994",
   "metadata": {},
   "outputs": [],
   "source": [
    "#add new row to the end of df\n",
    "df.loc[len(df.index)] = [mymeta, text]"
   ]
  },
  {
   "cell_type": "code",
   "execution_count": null,
   "id": "dcd78cb5",
   "metadata": {},
   "outputs": [],
   "source": [
    "df"
   ]
  }
 ],
 "metadata": {
  "kernelspec": {
   "display_name": "Python 3 (ipykernel)",
   "language": "python",
   "name": "python3"
  },
  "language_info": {
   "codemirror_mode": {
    "name": "ipython",
    "version": 3
   },
   "file_extension": ".py",
   "mimetype": "text/x-python",
   "name": "python",
   "nbconvert_exporter": "python",
   "pygments_lexer": "ipython3",
   "version": "3.11.4"
  }
 },
 "nbformat": 4,
 "nbformat_minor": 5
}
