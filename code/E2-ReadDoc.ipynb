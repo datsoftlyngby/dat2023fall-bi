{
 "cells": [
  {
   "cell_type": "markdown",
   "id": "c52bf402",
   "metadata": {},
   "source": [
    "# Read Doc"
   ]
  },
  {
   "cell_type": "code",
   "execution_count": null,
   "id": "41e50133",
   "metadata": {},
   "outputs": [],
   "source": [
    "#!pip install docx2txt"
   ]
  },
  {
   "cell_type": "code",
   "execution_count": null,
   "id": "6b3d2461",
   "metadata": {},
   "outputs": [],
   "source": [
    "# !pip install textract # for reading old doc files (no docx)"
   ]
  },
  {
   "cell_type": "code",
   "execution_count": 11,
   "id": "8ca0fed8",
   "metadata": {},
   "outputs": [],
   "source": [
    "#!pip install python-docx # for reading the metadata"
   ]
  },
  {
   "cell_type": "code",
   "execution_count": 73,
   "id": "f45f0101",
   "metadata": {},
   "outputs": [
    {
     "name": "stdout",
     "output_type": "stream",
     "text": [
      "Overwriting readdoc.py\n"
     ]
    }
   ],
   "source": [
    "%%writefile readdoc.py\n",
    "\n",
    "import docx2txt\n",
    "import docx\n",
    "from docx.document import Document\n",
    "from docx.opc.coreprops import CoreProperties\n",
    "\n",
    "def readDoc(filename):    \n",
    "    mydoc = docx.Document(filename)\n",
    "    mymeta = getMeta(mydoc)\n",
    "    text = docx2txt.process(filename)\n",
    "    text = text.replace('\\n', ' ')\n",
    "    return mymeta, text\n",
    "    \n",
    "def getMeta(doc):\n",
    "    metadata = {}\n",
    "    prop = doc.core_properties\n",
    "    metadata[\"author\"] = prop.author\n",
    "    metadata[\"category\"] = prop.category\n",
    "    metadata[\"comments\"] = prop.comments\n",
    "    metadata[\"content_status\"] = prop.content_status\n",
    "    metadata[\"created\"] = prop.created\n",
    "    metadata[\"identifier\"] = prop.identifier\n",
    "    metadata[\"keywords\"] = prop.keywords\n",
    "    metadata[\"last_modified_by\"] = prop.last_modified_by\n",
    "    metadata[\"language\"] = prop.language\n",
    "    metadata[\"modified\"] = prop.modified\n",
    "    metadata[\"subject\"] = prop.subject\n",
    "    metadata[\"title\"] = prop.title\n",
    "    metadata[\"version\"] = prop.version\n",
    "    return metadata\n",
    "     "
   ]
  },
  {
   "cell_type": "markdown",
   "id": "4af71fa4",
   "metadata": {},
   "source": [
    "## Test"
   ]
  },
  {
   "cell_type": "code",
   "execution_count": 79,
   "id": "c7da494a",
   "metadata": {},
   "outputs": [],
   "source": [
    "import readdoc\n",
    "from readdoc import readDoc"
   ]
  },
  {
   "cell_type": "code",
   "execution_count": 80,
   "id": "1f7ea23e",
   "metadata": {},
   "outputs": [
    {
     "data": {
      "text/plain": [
       "<module 'readdoc' from '/Users/tdi/Documents/Holodeck/Holodeck/Reader/readdoc.py'>"
      ]
     },
     "execution_count": 80,
     "metadata": {},
     "output_type": "execute_result"
    }
   ],
   "source": [
    "import importlib \n",
    "importlib.reload(readdoc)"
   ]
  },
  {
   "cell_type": "code",
   "execution_count": 81,
   "id": "c70d5207",
   "metadata": {},
   "outputs": [],
   "source": [
    "uri = '/Users/tdi/Documents/Holodeck/Holodeck/Docs/DocsTest.docx'"
   ]
  },
  {
   "cell_type": "code",
   "execution_count": 82,
   "id": "ad1a2351",
   "metadata": {},
   "outputs": [],
   "source": [
    "mymeta, text = readDoc(uri)"
   ]
  },
  {
   "cell_type": "code",
   "execution_count": 83,
   "id": "99d50757",
   "metadata": {},
   "outputs": [
    {
     "data": {
      "text/plain": [
       "'TEST  of my PDF file reader    xxxx'"
      ]
     },
     "execution_count": 83,
     "metadata": {},
     "output_type": "execute_result"
    }
   ],
   "source": [
    "text"
   ]
  },
  {
   "cell_type": "markdown",
   "id": "9e58e8ab",
   "metadata": {},
   "source": [
    "## Write into Data Frame"
   ]
  },
  {
   "cell_type": "code",
   "execution_count": 34,
   "id": "2f78ef22",
   "metadata": {},
   "outputs": [],
   "source": [
    "import pandas as pd"
   ]
  },
  {
   "cell_type": "code",
   "execution_count": 35,
   "id": "b0ffdac7",
   "metadata": {},
   "outputs": [],
   "source": [
    "df = pd.DataFrame(columns = ['meta', 'text'])"
   ]
  },
  {
   "cell_type": "code",
   "execution_count": 36,
   "id": "e8886050",
   "metadata": {},
   "outputs": [],
   "source": [
    "#add new row to the end of df\n",
    "df.loc[len(df.index)] = [mymeta, text]"
   ]
  },
  {
   "cell_type": "code",
   "execution_count": 37,
   "id": "dcd78cb5",
   "metadata": {},
   "outputs": [
    {
     "data": {
      "text/html": [
       "<div>\n",
       "<style scoped>\n",
       "    .dataframe tbody tr th:only-of-type {\n",
       "        vertical-align: middle;\n",
       "    }\n",
       "\n",
       "    .dataframe tbody tr th {\n",
       "        vertical-align: top;\n",
       "    }\n",
       "\n",
       "    .dataframe thead th {\n",
       "        text-align: right;\n",
       "    }\n",
       "</style>\n",
       "<table border=\"1\" class=\"dataframe\">\n",
       "  <thead>\n",
       "    <tr style=\"text-align: right;\">\n",
       "      <th></th>\n",
       "      <th>meta</th>\n",
       "      <th>text</th>\n",
       "    </tr>\n",
       "  </thead>\n",
       "  <tbody>\n",
       "    <tr>\n",
       "      <th>0</th>\n",
       "      <td>{'author': 'Todorka Stoyanova Dimitrova (TDI -...</td>\n",
       "      <td>b'TEST\\n\\nof my PDF file reader\\n\\n\\n\\nxxxx'</td>\n",
       "    </tr>\n",
       "  </tbody>\n",
       "</table>\n",
       "</div>"
      ],
      "text/plain": [
       "                                                meta  \\\n",
       "0  {'author': 'Todorka Stoyanova Dimitrova (TDI -...   \n",
       "\n",
       "                                           text  \n",
       "0  b'TEST\\n\\nof my PDF file reader\\n\\n\\n\\nxxxx'  "
      ]
     },
     "execution_count": 37,
     "metadata": {},
     "output_type": "execute_result"
    }
   ],
   "source": [
    "df"
   ]
  },
  {
   "cell_type": "code",
   "execution_count": null,
   "id": "dfe672af",
   "metadata": {},
   "outputs": [],
   "source": [
    "doc = docx.Document(uri)\n",
    "meta = getMetaData(doc)"
   ]
  },
  {
   "cell_type": "code",
   "execution_count": null,
   "id": "75e34db4",
   "metadata": {},
   "outputs": [],
   "source": [
    "meta"
   ]
  },
  {
   "cell_type": "markdown",
   "id": "e076be83",
   "metadata": {},
   "source": [
    "def get_docx_metadata(doc):\n",
    "    props = doc.core_properties\n",
    "    metadata = {str(p):getattr(props, p) for p in dir(props) if not str(p).startswith('_')}\n",
    "    return metadata"
   ]
  }
 ],
 "metadata": {
  "kernelspec": {
   "display_name": "Python 3 (ipykernel)",
   "language": "python",
   "name": "python3"
  },
  "language_info": {
   "codemirror_mode": {
    "name": "ipython",
    "version": 3
   },
   "file_extension": ".py",
   "mimetype": "text/x-python",
   "name": "python",
   "nbconvert_exporter": "python",
   "pygments_lexer": "ipython3",
   "version": "3.11.4"
  }
 },
 "nbformat": 4,
 "nbformat_minor": 5
}
