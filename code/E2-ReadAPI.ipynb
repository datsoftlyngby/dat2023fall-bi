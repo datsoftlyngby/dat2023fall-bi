{
 "cells": [
  {
   "cell_type": "markdown",
   "id": "7457d4e8",
   "metadata": {},
   "source": [
    "# Read API"
   ]
  },
  {
   "cell_type": "code",
   "execution_count": null,
   "id": "6d465653",
   "metadata": {},
   "outputs": [],
   "source": [
    "import pandas as pd\n",
    "import requests\n",
    "import json \n",
    "import contextlib\n",
    "import os\n",
    "import pprint"
   ]
  },
  {
   "cell_type": "code",
   "execution_count": 1,
   "id": "735f2d46",
   "metadata": {},
   "outputs": [
    {
     "name": "stdout",
     "output_type": "stream",
     "text": [
      "['/Users/tdi/Documents/Teaching/BI/2023/Exercises', '/Users/tdi/opt/anaconda3/lib/python39.zip', '/Users/tdi/opt/anaconda3/lib/python3.9', '/Users/tdi/opt/anaconda3/lib/python3.9/lib-dynload', '', '/Users/tdi/.local/lib/python3.9/site-packages', '/Users/tdi/opt/anaconda3/lib/python3.9/site-packages', '/Users/tdi/opt/anaconda3/lib/python3.9/site-packages/aeosa']\n"
     ]
    }
   ],
   "source": [
    "import sys\n",
    "print(sys.path)"
   ]
  },
  {
   "cell_type": "code",
   "execution_count": 2,
   "id": "703a5373",
   "metadata": {},
   "outputs": [],
   "source": [
    "sys.path.append('/Users/tdi/Documents/Teaching/BI/2023/Exercises')"
   ]
  },
  {
   "cell_type": "markdown",
   "id": "3fb5bc53",
   "metadata": {},
   "source": [
    "## Class"
   ]
  },
  {
   "cell_type": "code",
   "execution_count": 3,
   "id": "18841ae3",
   "metadata": {},
   "outputs": [
    {
     "name": "stdout",
     "output_type": "stream",
     "text": [
      "Writing readapi.py\n"
     ]
    }
   ],
   "source": [
    "%%writefile readapi.py\n",
    "import pandas as pd\n",
    "import os\n",
    "import json \n",
    "import requests\n",
    "import pprint\n",
    "\n",
    "class ReadAPI:\n",
    "        \n",
    "    def __init__(self, url, params, headers, data_dir, file_name):\n",
    "        self.url = url\n",
    "        self.params = params\n",
    "        self.headers = headers\n",
    "        self.data_dir = data_dir\n",
    "        self.file_name = file_name \n",
    "        self.full_path = os.path.join(self.data_dir, self.file_name)\n",
    "        \n",
    "\n",
    "    def readAPI(self):  \n",
    "        response = requests.get(self.url, params=self.params, headers=self.headers)\n",
    "        # save in json file        \n",
    "        with open(self.full_path, 'a') as f:\n",
    "            text = json.loads(response.text)\n",
    "            pretty = pprint.pformat(text).replace(\"'\", '\"')\n",
    "            f.write(pretty)\n",
    "        return response\n"
   ]
  },
  {
   "cell_type": "markdown",
   "id": "e71ef51f",
   "metadata": {},
   "source": [
    "## Test"
   ]
  },
  {
   "cell_type": "code",
   "execution_count": 4,
   "id": "8629e80c",
   "metadata": {},
   "outputs": [],
   "source": [
    "# Use CVR API\n",
    "# Search by CVR (vat), name (name), phone (phone) or production unit (produ) - key\n",
    "# Cphbusiness cvr(31678021)"
   ]
  },
  {
   "cell_type": "code",
   "execution_count": 5,
   "id": "a2e28bde",
   "metadata": {},
   "outputs": [],
   "source": [
    "company = \"Cphbusiness\""
   ]
  },
  {
   "cell_type": "code",
   "execution_count": 6,
   "id": "c842d262",
   "metadata": {},
   "outputs": [],
   "source": [
    "docs_dir = \"/Users/tdi/Documents/Teaching/BI/2023/data\"\n",
    "path = \"apitest.json\""
   ]
  },
  {
   "cell_type": "code",
   "execution_count": 7,
   "id": "5489524f",
   "metadata": {},
   "outputs": [],
   "source": [
    "url='http://cvrapi.dk/api'  \n",
    "params = {'search':company, 'country':'DK'}\n",
    "headers = {'User-Agent': 'hard test'}"
   ]
  },
  {
   "cell_type": "code",
   "execution_count": 8,
   "id": "5c3807ca",
   "metadata": {},
   "outputs": [],
   "source": [
    "from readapi import ReadAPI"
   ]
  },
  {
   "cell_type": "code",
   "execution_count": 9,
   "id": "77a07dbe",
   "metadata": {},
   "outputs": [],
   "source": [
    "rapi = ReadAPI(url, params, headers, docs_dir, path)"
   ]
  },
  {
   "cell_type": "code",
   "execution_count": 10,
   "id": "379c183c",
   "metadata": {},
   "outputs": [],
   "source": [
    "response = rapi.readAPI()"
   ]
  },
  {
   "cell_type": "code",
   "execution_count": 11,
   "id": "d55c3419",
   "metadata": {},
   "outputs": [],
   "source": [
    "# JSON file should have been returned in response and stored in docs_dir "
   ]
  },
  {
   "cell_type": "code",
   "execution_count": null,
   "id": "d029bc70",
   "metadata": {},
   "outputs": [],
   "source": []
  }
 ],
 "metadata": {
  "kernelspec": {
   "display_name": "Python 3 (ipykernel)",
   "language": "python",
   "name": "python3"
  },
  "language_info": {
   "codemirror_mode": {
    "name": "ipython",
    "version": 3
   },
   "file_extension": ".py",
   "mimetype": "text/x-python",
   "name": "python",
   "nbconvert_exporter": "python",
   "pygments_lexer": "ipython3",
   "version": "3.9.17"
  }
 },
 "nbformat": 4,
 "nbformat_minor": 5
}
