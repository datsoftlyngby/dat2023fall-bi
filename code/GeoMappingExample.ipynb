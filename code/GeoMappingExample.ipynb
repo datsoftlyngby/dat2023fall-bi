{
 "cells": [
  {
   "cell_type": "markdown",
   "id": "a8546c62",
   "metadata": {},
   "source": [
    "# Geo Mapping Example\n",
    "Reads file population.json and paints the countries on the map"
   ]
  },
  {
   "cell_type": "code",
   "execution_count": null,
   "id": "dc4cea73",
   "metadata": {},
   "outputs": [],
   "source": [
    "import folium"
   ]
  },
  {
   "cell_type": "code",
   "execution_count": null,
   "id": "2e790426",
   "metadata": {},
   "outputs": [],
   "source": [
    "# Mark to companies'location\n",
    "mymap = folium.Map(location=[55,12], tiles=\"CartoDB positron\", zoom_start=4)"
   ]
  },
  {
   "cell_type": "code",
   "execution_count": null,
   "id": "13a7b38b",
   "metadata": {},
   "outputs": [],
   "source": [
    "mymap"
   ]
  },
  {
   "cell_type": "code",
   "execution_count": null,
   "id": "1e49b05b",
   "metadata": {},
   "outputs": [],
   "source": [
    "def colorPicker(population):\n",
    "    if population < 10000000:\n",
    "        return 'green'\n",
    "    elif population >= 10000000 and population < 500000000:\n",
    "        return 'orange'\n",
    "    else:\n",
    "        return 'red'"
   ]
  },
  {
   "cell_type": "code",
   "execution_count": null,
   "id": "06d06903",
   "metadata": {},
   "outputs": [],
   "source": [
    "with open('../data/population.json', 'r', encoding='utf-8-sig') as f:\n",
    "    folium.GeoJson(f.read(), name = 'Population',\n",
    "               style_function = lambda x: {'fillColor': colorPicker(x['properties']['POP2005'])},\n",
    "               tooltip = folium.GeoJsonTooltip(fields=('NAME', 'POP2005'), aliases=('Country','Population')),\n",
    "               show = True).add_to(mymap)"
   ]
  },
  {
   "cell_type": "code",
   "execution_count": null,
   "id": "ee44ad9e",
   "metadata": {},
   "outputs": [],
   "source": [
    "mymap"
   ]
  },
  {
   "cell_type": "markdown",
   "id": "7682d833",
   "metadata": {},
   "source": [
    "### Reference\n",
    "Map Visualization with Falium\n",
    "https://medium.com/datasciencearth/map-visualization-with-folium-d1403771717"
   ]
  },
  {
   "cell_type": "code",
   "execution_count": null,
   "id": "da82bae8",
   "metadata": {},
   "outputs": [],
   "source": []
  }
 ],
 "metadata": {
  "kernelspec": {
   "display_name": "Python 3 (ipykernel)",
   "language": "python",
   "name": "python3"
  },
  "language_info": {
   "codemirror_mode": {
    "name": "ipython",
    "version": 3
   },
   "file_extension": ".py",
   "mimetype": "text/x-python",
   "name": "python",
   "nbconvert_exporter": "python",
   "pygments_lexer": "ipython3",
   "version": "3.11.4"
  }
 },
 "nbformat": 4,
 "nbformat_minor": 5
}
